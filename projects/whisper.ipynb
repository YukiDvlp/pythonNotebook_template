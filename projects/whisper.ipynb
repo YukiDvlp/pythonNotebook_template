{
 "cells": [
  {
   "cell_type": "code",
   "execution_count": 1,
   "id": "db204f1c-1895-4cfc-9473-852e81a0831b",
   "metadata": {},
   "outputs": [
    {
     "name": "stderr",
     "output_type": "stream",
     "text": [
      "100%|███████████████████████████████████████| 139M/139M [00:15<00:00, 9.60MiB/s]\n",
      "/usr/local/lib/python3.11/site-packages/whisper/transcribe.py:114: UserWarning: FP16 is not supported on CPU; using FP32 instead\n",
      "  warnings.warn(\"FP16 is not supported on CPU; using FP32 instead\")\n"
     ]
    },
    {
     "name": "stdout",
     "output_type": "stream",
     "text": [
      " uhh聞こえてく 流れてく君を巡る 押さえようのない思いがここにあんだ耳をさえでもなり響いてる 君が好きわかっている わかけているでもどうしようもない目覚めた瞬間から また夢中もう 時々のお夢を見てんだ同じ気持ちで いてくれたらいいな歩いの穴に閉じような 願いを繋いで365日の言葉を持たる 眠れた取り止めなく ただ君をかきつらねる明日に音もしつけよう心の中のケントルにくうどかぜかくいても 消えたりしないように例えば 自分 例えば夢 旦にしてたどんなクレスも 力をなくしなの君が話す 波がありに見せられて一人 君の方がいられていいやそんな奥とないのが 笑いにしなくちゃさばくの街についても 君がそこにいせいすればきっと乾きなど忘れて暮らせるそんなこと考えてたら 遠い空のわたがちがわ遠くらの街に 流れておいた君に触れたい 心に傷したい昨日より向かい場所で 君と出会いたいさばくの口を 心につづいた胸さちょぼれつぎ 見ようになれて 掻きつらねる明日に音もしつけよう君の心のケントルにくうどかぜかくいても 消えるように三角六中の道を 君に捧げる愛の歌聞こえてく 流れてく君をめぐる 想いのスペーティをどか君に届け\n"
     ]
    }
   ],
   "source": [
    "import whisper\n",
    "\n",
    "model = whisper.load_model(\"base\")\n",
    "result = model.transcribe(\"14-365日.mp3\")\n",
    "print(result[\"text\"])"
   ]
  },
  {
   "cell_type": "code",
   "execution_count": null,
   "id": "fc2ee648-9779-48ed-a09d-58d72e5d3c97",
   "metadata": {},
   "outputs": [],
   "source": []
  }
 ],
 "metadata": {
  "kernelspec": {
   "display_name": "Python 3 (ipykernel)",
   "language": "python",
   "name": "python3"
  },
  "language_info": {
   "codemirror_mode": {
    "name": "ipython",
    "version": 3
   },
   "file_extension": ".py",
   "mimetype": "text/x-python",
   "name": "python",
   "nbconvert_exporter": "python",
   "pygments_lexer": "ipython3",
   "version": "3.11.6"
  }
 },
 "nbformat": 4,
 "nbformat_minor": 5
}
